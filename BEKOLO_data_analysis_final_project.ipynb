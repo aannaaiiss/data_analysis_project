{
 "cells": [
  {
   "cell_type": "code",
   "execution_count": 2,
   "metadata": {},
   "outputs": [],
   "source": [
    "import os\n",
    "from pathlib import Path\n",
    "import pandas as pd\n",
    "import numpy as np"
   ]
  },
  {
   "cell_type": "code",
   "execution_count": 3,
   "metadata": {},
   "outputs": [],
   "source": [
    "metadata_path = \"../metadata\""
   ]
  },
  {
   "cell_type": "code",
   "execution_count": 4,
   "metadata": {},
   "outputs": [
    {
     "name": "stderr",
     "output_type": "stream",
     "text": [
      "C:\\Users\\anais\\AppData\\Local\\Temp\\ipykernel_17312\\2757715039.py:4: DtypeWarning: Columns (7,10) have mixed types. Specify dtype option on import or set low_memory=False.\n",
      "  [pd.read_csv(f'{metadata_path}/{lang_dir}/cv-corpus-15.0-2023-09-08/{lang_dir}/{set_name}.tsv', delimiter=\"\\t\")\n",
      "C:\\Users\\anais\\AppData\\Local\\Temp\\ipykernel_17312\\2757715039.py:4: DtypeWarning: Columns (10) have mixed types. Specify dtype option on import or set low_memory=False.\n",
      "  [pd.read_csv(f'{metadata_path}/{lang_dir}/cv-corpus-15.0-2023-09-08/{lang_dir}/{set_name}.tsv', delimiter=\"\\t\")\n",
      "C:\\Users\\anais\\AppData\\Local\\Temp\\ipykernel_17312\\2757715039.py:4: DtypeWarning: Columns (10) have mixed types. Specify dtype option on import or set low_memory=False.\n",
      "  [pd.read_csv(f'{metadata_path}/{lang_dir}/cv-corpus-15.0-2023-09-08/{lang_dir}/{set_name}.tsv', delimiter=\"\\t\")\n",
      "C:\\Users\\anais\\AppData\\Local\\Temp\\ipykernel_17312\\2757715039.py:4: DtypeWarning: Columns (5) have mixed types. Specify dtype option on import or set low_memory=False.\n",
      "  [pd.read_csv(f'{metadata_path}/{lang_dir}/cv-corpus-15.0-2023-09-08/{lang_dir}/{set_name}.tsv', delimiter=\"\\t\")\n",
      "C:\\Users\\anais\\AppData\\Local\\Temp\\ipykernel_17312\\2757715039.py:4: DtypeWarning: Columns (7,8) have mixed types. Specify dtype option on import or set low_memory=False.\n",
      "  [pd.read_csv(f'{metadata_path}/{lang_dir}/cv-corpus-15.0-2023-09-08/{lang_dir}/{set_name}.tsv', delimiter=\"\\t\")\n",
      "C:\\Users\\anais\\AppData\\Local\\Temp\\ipykernel_17312\\2757715039.py:4: DtypeWarning: Columns (5,6,7,10) have mixed types. Specify dtype option on import or set low_memory=False.\n",
      "  [pd.read_csv(f'{metadata_path}/{lang_dir}/cv-corpus-15.0-2023-09-08/{lang_dir}/{set_name}.tsv', delimiter=\"\\t\")\n",
      "C:\\Users\\anais\\AppData\\Local\\Temp\\ipykernel_17312\\2757715039.py:4: DtypeWarning: Columns (10) have mixed types. Specify dtype option on import or set low_memory=False.\n",
      "  [pd.read_csv(f'{metadata_path}/{lang_dir}/cv-corpus-15.0-2023-09-08/{lang_dir}/{set_name}.tsv', delimiter=\"\\t\")\n"
     ]
    }
   ],
   "source": [
    "# Create a dictionary of DataFrames, one for each language\n",
    "lang_data = {\n",
    "    lang_dir: pd.concat(\n",
    "        [pd.read_csv(f'{metadata_path}/{lang_dir}/cv-corpus-15.0-2023-09-08/{lang_dir}/{set_name}.tsv', delimiter=\"\\t\")\n",
    "         for set_name in [\"train\", \"test\", \"validated\"]],\n",
    "    )\n",
    "    for lang_dir in os.listdir(metadata_path)\n",
    "}"
   ]
  },
  {
   "cell_type": "code",
   "execution_count": 5,
   "metadata": {},
   "outputs": [
    {
     "name": "stdout",
     "output_type": "stream",
     "text": [
      "number of speakers for each language\n",
      "ar 1066\n",
      "de 17667\n",
      "en 77437\n",
      "es 16927\n",
      "fr 16848\n",
      "id 365\n",
      "it 6688\n",
      "ja 1462\n",
      "lg 592\n",
      "ru 2661\n",
      "sw 1080\n",
      "ta 520\n",
      "tr 1425\n",
      "zh-CN 5379\n"
     ]
    }
   ],
   "source": [
    "#Print the number of speakers for each language\n",
    "print(\"number of speakers for each language\")\n",
    "for lang,df in lang_data.items():\n",
    "    print(lang, df[\"client_id\"].nunique())"
   ]
  },
  {
   "cell_type": "code",
   "execution_count": 6,
   "metadata": {},
   "outputs": [
    {
     "name": "stdout",
     "output_type": "stream",
     "text": [
      "total duration for each language\n",
      "ar 553629078\n",
      "de 4994673077\n",
      "en 12047305099\n",
      "es 7873329654\n",
      "fr 3902596354\n",
      "id 229541988\n",
      "it 1378725780\n",
      "ja 813315453\n",
      "lg 2011923063\n",
      "ru 932842296\n",
      "sw 3355892964\n",
      "ta 1415794740\n",
      "tr 412661835\n",
      "zh-CN 3794426916\n"
     ]
    }
   ],
   "source": [
    "#Print the total duration for each language\n",
    "durations = [pd.read_csv(cd, sep=\"\\t\")[\"duration[ms]\"]\\\n",
    "    .sum()\n",
    "    for cd in Path(metadata_path).rglob(\"clip_durations.tsv\")]\n",
    "\n",
    "print(\"total duration for each language\")\n",
    "for lang,total_duration in zip(lang_data.keys(),durations):\n",
    "    print(lang,total_duration)"
   ]
  },
  {
   "cell_type": "code",
   "execution_count": 7,
   "metadata": {},
   "outputs": [
    {
     "ename": "SyntaxError",
     "evalue": "EOF while scanning triple-quoted string literal (2355712539.py, line 11)",
     "output_type": "error",
     "traceback": [
      "\u001b[1;36m  Cell \u001b[1;32mIn[7], line 11\u001b[1;36m\u001b[0m\n\u001b[1;33m    df''''''\u001b[0m\n\u001b[1;37m            \n^\u001b[0m\n\u001b[1;31mSyntaxError\u001b[0m\u001b[1;31m:\u001b[0m EOF while scanning triple-quoted string literal\n"
     ]
    }
   ],
   "source": [
    "'''languages = [lang for lang in os.listdir(metadata_path)]\n",
    "n_speakers = np.zeros(len(languages))\n",
    "\n",
    "for set_name in [\"train\",\"test\",\"validated\"]:\n",
    "    n_speakers+=np.array([pd.read_csv(train_path,sep=\"\\t\")\\\n",
    "        [\"client_id\"]\\\n",
    "        .nunique() \n",
    "        for train_path in Path(metadata_path).rglob(f\"{set_name}.tsv\")])\n",
    "\n",
    "df = pd.DataFrame({\"language\" : languages, \"n_speakers\" : n_speakers})\n",
    "df'''"
   ]
  }
 ],
 "metadata": {
  "kernelspec": {
   "display_name": "Python 3",
   "language": "python",
   "name": "python3"
  },
  "language_info": {
   "codemirror_mode": {
    "name": "ipython",
    "version": 3
   },
   "file_extension": ".py",
   "mimetype": "text/x-python",
   "name": "python",
   "nbconvert_exporter": "python",
   "pygments_lexer": "ipython3",
   "version": "3.9.7"
  }
 },
 "nbformat": 4,
 "nbformat_minor": 2
}
