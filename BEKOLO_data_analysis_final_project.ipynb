{
 "cells": [
  {
   "cell_type": "code",
   "execution_count": 26,
   "metadata": {},
   "outputs": [
    {
     "name": "stdout",
     "output_type": "stream",
     "text": [
      "Requirement already satisfied: sacremoses in c:\\users\\anais\\appdata\\local\\programs\\python\\python39\\lib\\site-packages (0.1.1)\n",
      "Requirement already satisfied: regex in c:\\users\\anais\\appdata\\local\\programs\\python\\python39\\lib\\site-packages (from sacremoses) (2022.3.15)\n",
      "Requirement already satisfied: click in c:\\users\\anais\\appdata\\local\\programs\\python\\python39\\lib\\site-packages (from sacremoses) (8.1.2)\n",
      "Requirement already satisfied: joblib in c:\\users\\anais\\appdata\\local\\programs\\python\\python39\\lib\\site-packages (from sacremoses) (1.1.0)\n",
      "Requirement already satisfied: tqdm in c:\\users\\anais\\appdata\\local\\programs\\python\\python39\\lib\\site-packages (from sacremoses) (4.64.0)\n",
      "Requirement already satisfied: colorama in c:\\users\\anais\\appdata\\local\\programs\\python\\python39\\lib\\site-packages (from click->sacremoses) (0.4.4)\n"
     ]
    },
    {
     "name": "stderr",
     "output_type": "stream",
     "text": [
      "\n",
      "[notice] A new release of pip is available: 23.2.1 -> 23.3.1\n",
      "[notice] To update, run: python.exe -m pip install --upgrade pip\n"
     ]
    }
   ],
   "source": [
    "!pip install sacremoses"
   ]
  },
  {
   "cell_type": "code",
   "execution_count": 60,
   "metadata": {},
   "outputs": [],
   "source": [
    "import os\n",
    "from pathlib import Path\n",
    "import pandas as pd\n",
    "import numpy as np\n",
    "import matplotlib.pyplot as plt\n",
    "from sacremoses import MosesTokenizer\n",
    "import nltk\n",
    "from nltk.corpus import stopwords\n",
    "import seaborn as sns\n",
    "import matplotlib.pyplot as plt\n",
    "from collections import Counter\n",
    "from sklearn.feature_extraction.text import TfidfVectorizer\n",
    "from sklearn.metrics.pairwise import cosine_similarity"
   ]
  },
  {
   "cell_type": "code",
   "execution_count": 2,
   "metadata": {},
   "outputs": [],
   "source": [
    "metadata_path = \"../metadata\""
   ]
  },
  {
   "cell_type": "code",
   "execution_count": 3,
   "metadata": {},
   "outputs": [
    {
     "name": "stderr",
     "output_type": "stream",
     "text": [
      "C:\\Users\\anais\\AppData\\Local\\Temp\\ipykernel_2376\\2116275207.py:4: DtypeWarning: Columns (5) have mixed types. Specify dtype option on import or set low_memory=False.\n",
      "  [pd.read_csv(f'{metadata_path}/{lang_dir}/cv-corpus-15.0-2023-09-08/{lang_dir}/{set_name}.tsv', delimiter=\"\\t\")\n"
     ]
    }
   ],
   "source": [
    "# Create a dictionary of DataFrames, one for each language, with all the data provided\n",
    "lang_data = {\n",
    "    lang_dir: pd.concat(\n",
    "        [pd.read_csv(f'{metadata_path}/{lang_dir}/cv-corpus-15.0-2023-09-08/{lang_dir}/{set_name}.tsv', delimiter=\"\\t\")\n",
    "         for set_name in [\"train\", \"test\"]],\n",
    "    )\n",
    "    for lang_dir in os.listdir(metadata_path)\n",
    "}"
   ]
  },
  {
   "cell_type": "code",
   "execution_count": 4,
   "metadata": {},
   "outputs": [],
   "source": [
    "# Modify the dictionary of DataFrames to have also the duration\n",
    "for lang in lang_data: \n",
    "    lang_data[lang] = pd.merge(\n",
    "        lang_data[lang].rename(columns={'path': 'clip'}),\n",
    "        pd.read_csv(f'{metadata_path}/{lang}/cv-corpus-15.0-2023-09-08/{lang}/clip_durations.tsv', delimiter=\"\\t\"),\n",
    "    )"
   ]
  },
  {
   "cell_type": "code",
   "execution_count": 5,
   "metadata": {},
   "outputs": [
    {
     "name": "stdout",
     "output_type": "stream",
     "text": [
      "number of speakers for each language\n",
      "ar 982\n",
      "de 12277\n",
      "en 47861\n",
      "es 10990\n",
      "fr 12153\n",
      "id 332\n",
      "it 5098\n",
      "ja 1073\n",
      "lg 514\n",
      "ru 2144\n",
      "sw 956\n",
      "ta 471\n",
      "tr 1268\n",
      "zh-CN 3454\n"
     ]
    }
   ],
   "source": [
    "#Print the number of speakers for each language\n",
    "print(\"number of speakers for each language\")\n",
    "for lang,df in lang_data.items():\n",
    "    print(lang, df[\"client_id\"].nunique())"
   ]
  },
  {
   "cell_type": "code",
   "execution_count": 6,
   "metadata": {},
   "outputs": [
    {
     "name": "stdout",
     "output_type": "stream",
     "text": [
      "total duration for each language\n",
      "ar 162160035\n",
      "de 3341755685\n",
      "en 6174878911\n",
      "es 1720018728\n",
      "fr 2820768179\n",
      "id 42566295\n",
      "it 975913433\n",
      "ja 57698436\n",
      "lg 466082146\n",
      "ru 192763014\n",
      "sw 305649144\n",
      "ta 329813232\n",
      "tr 149813327\n",
      "zh-CN 215156913\n"
     ]
    }
   ],
   "source": [
    "#Print the total duration for each language\n",
    "print(\"total duration for each language\")\n",
    "for lang,df in lang_data.items():\n",
    "    print(lang, df[\"duration[ms]\"].sum())"
   ]
  },
  {
   "cell_type": "code",
   "execution_count": 7,
   "metadata": {},
   "outputs": [
    {
     "data": {
      "text/html": [
       "<div>\n",
       "<style scoped>\n",
       "    .dataframe tbody tr th:only-of-type {\n",
       "        vertical-align: middle;\n",
       "    }\n",
       "\n",
       "    .dataframe tbody tr th {\n",
       "        vertical-align: top;\n",
       "    }\n",
       "\n",
       "    .dataframe thead th {\n",
       "        text-align: right;\n",
       "    }\n",
       "</style>\n",
       "<table border=\"1\" class=\"dataframe\">\n",
       "  <thead>\n",
       "    <tr style=\"text-align: right;\">\n",
       "      <th></th>\n",
       "      <th>Gender</th>\n",
       "      <th>Language</th>\n",
       "      <th>Total Duration</th>\n",
       "      <th>Number of Speakers</th>\n",
       "    </tr>\n",
       "  </thead>\n",
       "  <tbody>\n",
       "    <tr>\n",
       "      <th>0</th>\n",
       "      <td>female</td>\n",
       "      <td>ar</td>\n",
       "      <td>26649792</td>\n",
       "      <td>982</td>\n",
       "    </tr>\n",
       "    <tr>\n",
       "      <th>1</th>\n",
       "      <td>female</td>\n",
       "      <td>de</td>\n",
       "      <td>256048399</td>\n",
       "      <td>12277</td>\n",
       "    </tr>\n",
       "    <tr>\n",
       "      <th>2</th>\n",
       "      <td>female</td>\n",
       "      <td>en</td>\n",
       "      <td>1211778903</td>\n",
       "      <td>47861</td>\n",
       "    </tr>\n",
       "    <tr>\n",
       "      <th>3</th>\n",
       "      <td>female</td>\n",
       "      <td>es</td>\n",
       "      <td>474956697</td>\n",
       "      <td>10990</td>\n",
       "    </tr>\n",
       "    <tr>\n",
       "      <th>4</th>\n",
       "      <td>female</td>\n",
       "      <td>fr</td>\n",
       "      <td>319672321</td>\n",
       "      <td>12153</td>\n",
       "    </tr>\n",
       "  </tbody>\n",
       "</table>\n",
       "</div>"
      ],
      "text/plain": [
       "   Gender Language  Total Duration  Number of Speakers\n",
       "0  female       ar        26649792                 982\n",
       "1  female       de       256048399               12277\n",
       "2  female       en      1211778903               47861\n",
       "3  female       es       474956697               10990\n",
       "4  female       fr       319672321               12153"
      ]
     },
     "execution_count": 7,
     "metadata": {},
     "output_type": "execute_result"
    }
   ],
   "source": [
    "#Create several DataFrames\n",
    "genders = [\"female\", \"male\", None,\"other\"]\n",
    "data = []\n",
    "\n",
    "for gender in genders:\n",
    "    for lang,df in lang_data.items():\n",
    "        total_duration = df[df[\"gender\"] == gender][\"duration[ms]\"].sum()\n",
    "        num_speakers = df[\"client_id\"].nunique()\n",
    "        data.append([gender, lang, total_duration, num_speakers])\n",
    "        \n",
    "        #For each language and each gender : average, max, median, min number of recordings per speaker\n",
    "        #One DataFrame for each language and each gender\n",
    "        new_df = df.groupby(by=\"client_id\")[\"duration[ms]\"].agg(['max', 'min', 'mean', 'median'])\n",
    "        #new_df.to_csv(f\"{lang}_{gender}.csv\")\n",
    "\n",
    "# For each language and each genre : total duration of recordings, the number of different speakers\n",
    "result_df = pd.DataFrame(data, columns=[\"Gender\", \"Language\", \"Total Duration\", \"Number of Speakers\"])\n",
    "result_df.head()\n"
   ]
  },
  {
   "cell_type": "code",
   "execution_count": 8,
   "metadata": {},
   "outputs": [
    {
     "data": {
      "text/html": [
       "<div>\n",
       "<style scoped>\n",
       "    .dataframe tbody tr th:only-of-type {\n",
       "        vertical-align: middle;\n",
       "    }\n",
       "\n",
       "    .dataframe tbody tr th {\n",
       "        vertical-align: top;\n",
       "    }\n",
       "\n",
       "    .dataframe thead th {\n",
       "        text-align: right;\n",
       "    }\n",
       "</style>\n",
       "<table border=\"1\" class=\"dataframe\">\n",
       "  <thead>\n",
       "    <tr style=\"text-align: right;\">\n",
       "      <th></th>\n",
       "      <th>Language</th>\n",
       "      <th>Max Number of Recordings per Speaker</th>\n",
       "      <th>Total Number of Recordings</th>\n",
       "      <th>Max Proportion of Recordings per Speaker</th>\n",
       "    </tr>\n",
       "  </thead>\n",
       "  <tbody>\n",
       "    <tr>\n",
       "      <th>0</th>\n",
       "      <td>ar</td>\n",
       "      <td>4</td>\n",
       "      <td>4</td>\n",
       "      <td>1.000000</td>\n",
       "    </tr>\n",
       "    <tr>\n",
       "      <th>1</th>\n",
       "      <td>de</td>\n",
       "      <td>50</td>\n",
       "      <td>50</td>\n",
       "      <td>1.000000</td>\n",
       "    </tr>\n",
       "    <tr>\n",
       "      <th>2</th>\n",
       "      <td>en</td>\n",
       "      <td>53</td>\n",
       "      <td>146</td>\n",
       "      <td>0.363014</td>\n",
       "    </tr>\n",
       "    <tr>\n",
       "      <th>3</th>\n",
       "      <td>es</td>\n",
       "      <td>57</td>\n",
       "      <td>79</td>\n",
       "      <td>0.721519</td>\n",
       "    </tr>\n",
       "    <tr>\n",
       "      <th>4</th>\n",
       "      <td>it</td>\n",
       "      <td>5</td>\n",
       "      <td>5</td>\n",
       "      <td>1.000000</td>\n",
       "    </tr>\n",
       "    <tr>\n",
       "      <th>5</th>\n",
       "      <td>ja</td>\n",
       "      <td>2</td>\n",
       "      <td>2</td>\n",
       "      <td>1.000000</td>\n",
       "    </tr>\n",
       "    <tr>\n",
       "      <th>6</th>\n",
       "      <td>lg</td>\n",
       "      <td>352</td>\n",
       "      <td>352</td>\n",
       "      <td>1.000000</td>\n",
       "    </tr>\n",
       "    <tr>\n",
       "      <th>7</th>\n",
       "      <td>zh-CN</td>\n",
       "      <td>1</td>\n",
       "      <td>1</td>\n",
       "      <td>1.000000</td>\n",
       "    </tr>\n",
       "  </tbody>\n",
       "</table>\n",
       "</div>"
      ],
      "text/plain": [
       "  Language  Max Number of Recordings per Speaker  Total Number of Recordings  \\\n",
       "0       ar                                     4                           4   \n",
       "1       de                                    50                          50   \n",
       "2       en                                    53                         146   \n",
       "3       es                                    57                          79   \n",
       "4       it                                     5                           5   \n",
       "5       ja                                     2                           2   \n",
       "6       lg                                   352                         352   \n",
       "7    zh-CN                                     1                           1   \n",
       "\n",
       "   Max Proportion of Recordings per Speaker  \n",
       "0                                  1.000000  \n",
       "1                                  1.000000  \n",
       "2                                  0.363014  \n",
       "3                                  0.721519  \n",
       "4                                  1.000000  \n",
       "5                                  1.000000  \n",
       "6                                  1.000000  \n",
       "7                                  1.000000  "
      ]
     },
     "execution_count": 8,
     "metadata": {},
     "output_type": "execute_result"
    }
   ],
   "source": [
    "#Question 3\n",
    "filtered_data = [(lang, df[df[\"age\"] == \"nineties\"][\"client_id\"].value_counts()) for lang, df in lang_data.items() if not df[df[\"age\"] == \"nineties\"][\"client_id\"].value_counts().empty]\n",
    "\n",
    "result_df = pd.DataFrame({\n",
    "    \"Language\": [lang for lang, _ in filtered_data],\n",
    "    \"Max Number of Recordings per Speaker\": [counts.max() for _, counts in filtered_data],\n",
    "    \"Total Number of Recordings\": [counts.sum() for _, counts in filtered_data],\n",
    "    \"Max Proportion of Recordings per Speaker\": [counts.max() / counts.sum() for _, counts in filtered_data]\n",
    "})\n",
    "\n",
    "result_df\n"
   ]
  },
  {
   "cell_type": "code",
   "execution_count": 9,
   "metadata": {},
   "outputs": [
    {
     "data": {
      "text/html": [
       "<div>\n",
       "<style scoped>\n",
       "    .dataframe tbody tr th:only-of-type {\n",
       "        vertical-align: middle;\n",
       "    }\n",
       "\n",
       "    .dataframe tbody tr th {\n",
       "        vertical-align: top;\n",
       "    }\n",
       "\n",
       "    .dataframe thead th {\n",
       "        text-align: right;\n",
       "    }\n",
       "</style>\n",
       "<table border=\"1\" class=\"dataframe\">\n",
       "  <thead>\n",
       "    <tr style=\"text-align: right;\">\n",
       "      <th></th>\n",
       "      <th>Language</th>\n",
       "      <th>Max Proportion of Recordings per Speaker</th>\n",
       "    </tr>\n",
       "  </thead>\n",
       "  <tbody>\n",
       "    <tr>\n",
       "      <th>0</th>\n",
       "      <td>ar</td>\n",
       "      <td>1.0</td>\n",
       "    </tr>\n",
       "    <tr>\n",
       "      <th>1</th>\n",
       "      <td>de</td>\n",
       "      <td>1.0</td>\n",
       "    </tr>\n",
       "    <tr>\n",
       "      <th>4</th>\n",
       "      <td>it</td>\n",
       "      <td>1.0</td>\n",
       "    </tr>\n",
       "    <tr>\n",
       "      <th>5</th>\n",
       "      <td>ja</td>\n",
       "      <td>1.0</td>\n",
       "    </tr>\n",
       "    <tr>\n",
       "      <th>6</th>\n",
       "      <td>lg</td>\n",
       "      <td>1.0</td>\n",
       "    </tr>\n",
       "    <tr>\n",
       "      <th>7</th>\n",
       "      <td>zh-CN</td>\n",
       "      <td>1.0</td>\n",
       "    </tr>\n",
       "  </tbody>\n",
       "</table>\n",
       "</div>"
      ],
      "text/plain": [
       "  Language  Max Proportion of Recordings per Speaker\n",
       "0       ar                                       1.0\n",
       "1       de                                       1.0\n",
       "4       it                                       1.0\n",
       "5       ja                                       1.0\n",
       "6       lg                                       1.0\n",
       "7    zh-CN                                       1.0"
      ]
     },
     "execution_count": 9,
     "metadata": {},
     "output_type": "execute_result"
    }
   ],
   "source": [
    "#Question 3 - suite \n",
    "#Print the max proportion of recordings per speaker according to the language\n",
    "filtered_data = [(lang, df[df[\"age\"] == \"nineties\"][\"client_id\"].value_counts()) for lang, df in lang_data.items() if not df[df[\"age\"] == \"nineties\"][\"client_id\"].value_counts().empty]\n",
    "\n",
    "result_df = pd.DataFrame({\n",
    "    \"Language\": [lang for lang, _ in filtered_data],\n",
    "    \"Max Proportion of Recordings per Speaker\": [counts.max() / counts.sum() for _, counts in filtered_data]\n",
    "})\n",
    "\n",
    "\n",
    "max_value = result_df[\"Max Proportion of Recordings per Speaker\"].max()\n",
    "\n",
    "filtered_result_df = result_df[result_df[\"Max Proportion of Recordings per Speaker\"] == max_value]\n",
    "\n",
    "filtered_result_df"
   ]
  },
  {
   "cell_type": "code",
   "execution_count": 10,
   "metadata": {},
   "outputs": [
    {
     "name": "stdout",
     "output_type": "stream",
     "text": [
      "ar [nan 'female' 'male' 'other']\n",
      "de ['male' nan 'female' 'other']\n",
      "en [nan 'female' 'male' 'other']\n",
      "es [nan 'male' 'female' 'other']\n",
      "fr [nan 'male' 'female' 'other']\n",
      "id [nan 'male' 'female' 'other']\n",
      "it [nan 'male' 'female' 'other']\n",
      "ja ['male' 'female' nan 'other']\n",
      "lg [nan 'female' 'male']\n",
      "ru [nan 'male' 'female' 'other']\n",
      "sw ['female' nan 'male']\n",
      "ta ['male' nan 'female']\n",
      "tr ['male' nan 'female' 'other']\n",
      "zh-CN [nan 'male' 'female' 'other']\n"
     ]
    }
   ],
   "source": [
    "#Question 4\n",
    "#Print the differentes genders considered in the corpus\n",
    "for lang,df in lang_data.items():\n",
    "    print(lang, df[\"gender\"].unique())"
   ]
  },
  {
   "cell_type": "code",
   "execution_count": 11,
   "metadata": {},
   "outputs": [
    {
     "name": "stdout",
     "output_type": "stream",
     "text": [
      "Percentage of NaN in 'gender': 30.21%\n"
     ]
    }
   ],
   "source": [
    "#Question 4 - suite \n",
    "#Print the percentage of recordings for which no genre information is available\n",
    "combined_df = pd.concat(lang_data.values())\n",
    "\n",
    "nan_percentage = (combined_df[\"gender\"].isna().mean() * 100)\n",
    "\n",
    "print(f\"Percentage of NaN in 'gender': {nan_percentage:.2f}%\")"
   ]
  },
  {
   "cell_type": "code",
   "execution_count": 12,
   "metadata": {},
   "outputs": [
    {
     "data": {
      "image/png": "[encoded data removed]",
      "text/plain": [
       "<Figure size 800x600 with 1 Axes>"
      ]
     },
     "metadata": {},
     "output_type": "display_data"
    }
   ],
   "source": [
    "#Question 4 - suite \n",
    "#Print the gender distribution\n",
    "# Create a MultiIndex to track the original language\n",
    "dfs = [df.assign(Language=lang) for lang, df in lang_data.items()]\n",
    "concatenated_df = pd.concat(dfs, ignore_index=True)\n",
    "concatenated_df['gender'].fillna(\"NaN\", inplace=True)\n",
    "\n",
    "gender_counts = concatenated_df['gender'].value_counts(normalize=True) * 100\n",
    "\n",
    "# Plot the percentages\n",
    "plt.figure(figsize=(8, 6))\n",
    "gender_counts.plot(kind='bar', color='skyblue')\n",
    "plt.title('Percentage of Different Gender Values (including NaN)')\n",
    "plt.xlabel('Gender')\n",
    "plt.ylabel('Percentage')\n",
    "plt.xticks(rotation=0)  \n",
    "plt.show()\n",
    "\n"
   ]
  },
  {
   "cell_type": "code",
   "execution_count": 13,
   "metadata": {},
   "outputs": [
    {
     "data": {
      "image/png": "[encoded data removed]",
      "text/plain": [
       "<Figure size 800x600 with 1 Axes>"
      ]
     },
     "metadata": {},
     "output_type": "display_data"
    }
   ],
   "source": [
    "#Question 4 - suite \n",
    "#Print the age distribution\n",
    "concatenated_df['age'].fillna(\"NaN\", inplace=True)\n",
    "\n",
    "age_counts = concatenated_df['age'].value_counts(normalize=True) * 100\n",
    "\n",
    "# Plot the percentages\n",
    "plt.figure(figsize=(8, 6))\n",
    "age_counts.plot(kind='bar', color='skyblue')\n",
    "plt.title('Percentage of Different Ages Values (including NaN)')\n",
    "plt.xlabel('Age')\n",
    "plt.ylabel('Percentage')\n",
    "plt.xticks(rotation=0)  \n",
    "plt.show()\n",
    "\n"
   ]
  },
  {
   "cell_type": "code",
   "execution_count": 14,
   "metadata": {},
   "outputs": [
    {
     "data": {
      "text/html": [
       "<div>\n",
       "<style scoped>\n",
       "    .dataframe tbody tr th:only-of-type {\n",
       "        vertical-align: middle;\n",
       "    }\n",
       "\n",
       "    .dataframe tbody tr th {\n",
       "        vertical-align: top;\n",
       "    }\n",
       "\n",
       "    .dataframe thead th {\n",
       "        text-align: right;\n",
       "    }\n",
       "</style>\n",
       "<table border=\"1\" class=\"dataframe\">\n",
       "  <thead>\n",
       "    <tr style=\"text-align: right;\">\n",
       "      <th></th>\n",
       "      <th>Language</th>\n",
       "      <th>gender</th>\n",
       "      <th>client_id</th>\n",
       "      <th>clip</th>\n",
       "    </tr>\n",
       "  </thead>\n",
       "  <tbody>\n",
       "    <tr>\n",
       "      <th>74</th>\n",
       "      <td>ar</td>\n",
       "      <td>NaN</td>\n",
       "      <td>1ebda36c79c7942d2d10a68236599dd5be279fcf6f17ad...</td>\n",
       "      <td>2517</td>\n",
       "    </tr>\n",
       "    <tr>\n",
       "      <th>153</th>\n",
       "      <td>ar</td>\n",
       "      <td>NaN</td>\n",
       "      <td>3b941765a02cc4e9bdf5d8a99c3e3cc3b1ce3413911116...</td>\n",
       "      <td>2187</td>\n",
       "    </tr>\n",
       "    <tr>\n",
       "      <th>113</th>\n",
       "      <td>ar</td>\n",
       "      <td>NaN</td>\n",
       "      <td>2c1c6088204f735de177d61cd8aa000be8a060ef5357c5...</td>\n",
       "      <td>1939</td>\n",
       "    </tr>\n",
       "    <tr>\n",
       "      <th>435</th>\n",
       "      <td>ar</td>\n",
       "      <td>NaN</td>\n",
       "      <td>9f67c80184f75a777443f4635bbab429ab65de4bee7c78...</td>\n",
       "      <td>1839</td>\n",
       "    </tr>\n",
       "    <tr>\n",
       "      <th>341</th>\n",
       "      <td>ar</td>\n",
       "      <td>NaN</td>\n",
       "      <td>7b71cda885f1f7d5d5556539a93dce8d7ab45658b38854...</td>\n",
       "      <td>1464</td>\n",
       "    </tr>\n",
       "  </tbody>\n",
       "</table>\n",
       "</div>"
      ],
      "text/plain": [
       "    Language gender                                          client_id  clip\n",
       "74        ar    NaN  1ebda36c79c7942d2d10a68236599dd5be279fcf6f17ad...  2517\n",
       "153       ar    NaN  3b941765a02cc4e9bdf5d8a99c3e3cc3b1ce3413911116...  2187\n",
       "113       ar    NaN  2c1c6088204f735de177d61cd8aa000be8a060ef5357c5...  1939\n",
       "435       ar    NaN  9f67c80184f75a777443f4635bbab429ab65de4bee7c78...  1839\n",
       "341       ar    NaN  7b71cda885f1f7d5d5556539a93dce8d7ab45658b38854...  1464"
      ]
     },
     "execution_count": 14,
     "metadata": {},
     "output_type": "execute_result"
    }
   ],
   "source": [
    "#Question 5\n",
    "#Print he 7 speakers who produced the most recordings for each language and each gender\n",
    "grouped_df = concatenated_df.groupby(['Language', 'gender', 'client_id'])['clip'].count().reset_index()\n",
    "sorted_df = grouped_df.sort_values(['Language', 'gender', 'clip'], ascending=[True, True, False])\n",
    "top_speakers = sorted_df.groupby(['Language', 'gender']).head(7)\n",
    "top_speakers.head()\n"
   ]
  },
  {
   "cell_type": "code",
   "execution_count": 15,
   "metadata": {},
   "outputs": [
    {
     "name": "stderr",
     "output_type": "stream",
     "text": [
      "C:\\Users\\anais\\AppData\\Local\\Temp\\ipykernel_2376\\3870570994.py:2: DtypeWarning: Columns (5) have mixed types. Specify dtype option on import or set low_memory=False.\n",
      "  train_data = pd.concat([pd.read_csv(f\"{metadata_path}/{lang_dir}/cv-corpus-15.0-2023-09-08/{lang_dir}/train.tsv\", delimiter=\"\\t\").assign(language=lang_dir)\n"
     ]
    },
    {
     "data": {
      "text/html": [
       "<div>\n",
       "<style scoped>\n",
       "    .dataframe tbody tr th:only-of-type {\n",
       "        vertical-align: middle;\n",
       "    }\n",
       "\n",
       "    .dataframe tbody tr th {\n",
       "        vertical-align: top;\n",
       "    }\n",
       "\n",
       "    .dataframe thead th {\n",
       "        text-align: right;\n",
       "    }\n",
       "</style>\n",
       "<table border=\"1\" class=\"dataframe\">\n",
       "  <thead>\n",
       "    <tr style=\"text-align: right;\">\n",
       "      <th></th>\n",
       "      <th>client_id</th>\n",
       "      <th>path</th>\n",
       "      <th>sentence</th>\n",
       "      <th>up_votes</th>\n",
       "      <th>down_votes</th>\n",
       "      <th>age</th>\n",
       "      <th>gender</th>\n",
       "      <th>accents</th>\n",
       "      <th>variant</th>\n",
       "      <th>locale</th>\n",
       "      <th>segment</th>\n",
       "      <th>language</th>\n",
       "    </tr>\n",
       "  </thead>\n",
       "  <tbody>\n",
       "    <tr>\n",
       "      <th>0</th>\n",
       "      <td>4423514fa51943a7a32bbed365f479687b108270c71c3b...</td>\n",
       "      <td>common_voice_ar_24032301.mp3</td>\n",
       "      <td>وما كان ربك ليهلك القرى بظلم وأهلها مصلحون</td>\n",
       "      <td>2</td>\n",
       "      <td>0</td>\n",
       "      <td>NaN</td>\n",
       "      <td>NaN</td>\n",
       "      <td>NaN</td>\n",
       "      <td>NaN</td>\n",
       "      <td>ar</td>\n",
       "      <td>NaN</td>\n",
       "      <td>ar</td>\n",
       "    </tr>\n",
       "    <tr>\n",
       "      <th>1</th>\n",
       "      <td>4423514fa51943a7a32bbed365f479687b108270c71c3b...</td>\n",
       "      <td>common_voice_ar_24032302.mp3</td>\n",
       "      <td>أقدر تعاونك معنا.</td>\n",
       "      <td>2</td>\n",
       "      <td>1</td>\n",
       "      <td>NaN</td>\n",
       "      <td>NaN</td>\n",
       "      <td>NaN</td>\n",
       "      <td>NaN</td>\n",
       "      <td>ar</td>\n",
       "      <td>NaN</td>\n",
       "      <td>ar</td>\n",
       "    </tr>\n",
       "    <tr>\n",
       "      <th>2</th>\n",
       "      <td>4423514fa51943a7a32bbed365f479687b108270c71c3b...</td>\n",
       "      <td>common_voice_ar_24032303.mp3</td>\n",
       "      <td>وَلُوطًا إِذْ قَالَ لِقَوْمِهِ أَتَأْتُونَ الْ...</td>\n",
       "      <td>2</td>\n",
       "      <td>0</td>\n",
       "      <td>NaN</td>\n",
       "      <td>NaN</td>\n",
       "      <td>NaN</td>\n",
       "      <td>NaN</td>\n",
       "      <td>ar</td>\n",
       "      <td>NaN</td>\n",
       "      <td>ar</td>\n",
       "    </tr>\n",
       "    <tr>\n",
       "      <th>3</th>\n",
       "      <td>4423514fa51943a7a32bbed365f479687b108270c71c3b...</td>\n",
       "      <td>common_voice_ar_24032304.mp3</td>\n",
       "      <td>فلما رأوا بأسنا قالوا آمنا بالله وحده وكفرنا ب...</td>\n",
       "      <td>2</td>\n",
       "      <td>0</td>\n",
       "      <td>NaN</td>\n",
       "      <td>NaN</td>\n",
       "      <td>NaN</td>\n",
       "      <td>NaN</td>\n",
       "      <td>ar</td>\n",
       "      <td>NaN</td>\n",
       "      <td>ar</td>\n",
       "    </tr>\n",
       "    <tr>\n",
       "      <th>4</th>\n",
       "      <td>4423514fa51943a7a32bbed365f479687b108270c71c3b...</td>\n",
       "      <td>common_voice_ar_24032305.mp3</td>\n",
       "      <td>لمن هذا الكتاب؟</td>\n",
       "      <td>2</td>\n",
       "      <td>0</td>\n",
       "      <td>NaN</td>\n",
       "      <td>NaN</td>\n",
       "      <td>NaN</td>\n",
       "      <td>NaN</td>\n",
       "      <td>ar</td>\n",
       "      <td>NaN</td>\n",
       "      <td>ar</td>\n",
       "    </tr>\n",
       "  </tbody>\n",
       "</table>\n",
       "</div>"
      ],
      "text/plain": [
       "                                           client_id  \\\n",
       "0  4423514fa51943a7a32bbed365f479687b108270c71c3b...   \n",
       "1  4423514fa51943a7a32bbed365f479687b108270c71c3b...   \n",
       "2  4423514fa51943a7a32bbed365f479687b108270c71c3b...   \n",
       "3  4423514fa51943a7a32bbed365f479687b108270c71c3b...   \n",
       "4  4423514fa51943a7a32bbed365f479687b108270c71c3b...   \n",
       "\n",
       "                           path  \\\n",
       "0  common_voice_ar_24032301.mp3   \n",
       "1  common_voice_ar_24032302.mp3   \n",
       "2  common_voice_ar_24032303.mp3   \n",
       "3  common_voice_ar_24032304.mp3   \n",
       "4  common_voice_ar_24032305.mp3   \n",
       "\n",
       "                                            sentence  up_votes  down_votes  \\\n",
       "0         وما كان ربك ليهلك القرى بظلم وأهلها مصلحون         2           0   \n",
       "1                                  أقدر تعاونك معنا.         2           1   \n",
       "2  وَلُوطًا إِذْ قَالَ لِقَوْمِهِ أَتَأْتُونَ الْ...         2           0   \n",
       "3  فلما رأوا بأسنا قالوا آمنا بالله وحده وكفرنا ب...         2           0   \n",
       "4                                    لمن هذا الكتاب؟         2           0   \n",
       "\n",
       "   age gender accents variant locale  segment language  \n",
       "0  NaN    NaN     NaN     NaN     ar      NaN       ar  \n",
       "1  NaN    NaN     NaN     NaN     ar      NaN       ar  \n",
       "2  NaN    NaN     NaN     NaN     ar      NaN       ar  \n",
       "3  NaN    NaN     NaN     NaN     ar      NaN       ar  \n",
       "4  NaN    NaN     NaN     NaN     ar      NaN       ar  "
      ]
     },
     "execution_count": 15,
     "metadata": {},
     "output_type": "execute_result"
    }
   ],
   "source": [
    "#Question 6\n",
    "train_data = pd.concat([pd.read_csv(f\"{metadata_path}/{lang_dir}/cv-corpus-15.0-2023-09-08/{lang_dir}/train.tsv\", delimiter=\"\\t\").assign(language=lang_dir) \n",
    "                        for lang_dir in os.listdir(metadata_path)],\n",
    "                       ignore_index=True)\n",
    "train_data.head()"
   ]
  },
  {
   "cell_type": "code",
   "execution_count": 16,
   "metadata": {},
   "outputs": [
    {
     "data": {
      "text/plain": [
       "28406       4320\n",
       "28407       8256\n",
       "28408      12000\n",
       "28409      16788\n",
       "28410      20424\n",
       "          ...   \n",
       "31763    3568280\n",
       "31764    3572816\n",
       "31773    3576440\n",
       "31884    3580256\n",
       "31885    3587552\n",
       "Name: duration[ms], Length: 879, dtype: int64"
      ]
     },
     "execution_count": 16,
     "metadata": {},
     "output_type": "execute_result"
    }
   ],
   "source": [
    "#Question 6\n",
    "lang_sets = {}\n",
    "for lang,df in lang_data.items() : \n",
    "    lang_sets[lang] = {}\n",
    "    cumulative_duration = df.groupby(by=\"client_id\")['duration[ms]'].sum().sort_values().cumsum()\n",
    "    test_clients = cumulative_duration[cumulative_duration <= 3.6e+6].index\n",
    "    lang_sets[lang][\"test\"] = df[df[\"client_id\"].isin(test_clients)]\n",
    "    lang_sets[lang][\"train\"] = df[~df[\"client_id\"].isin(test_clients)]\n",
    "\n",
    "lang_sets[\"ar\"][\"test\"][\"duration[ms]\"].cumsum()"
   ]
  },
  {
   "cell_type": "code",
   "execution_count": 17,
   "metadata": {},
   "outputs": [
    {
     "name": "stdout",
     "output_type": "stream",
     "text": [
      "Number of language that has more female than male recordings : 3\n"
     ]
    }
   ],
   "source": [
    "#Question 7\n",
    "n=0\n",
    "for lang,df in lang_data.items():\n",
    "    gender_count_max = df['gender'].value_counts().idxmax()\n",
    "    if gender_count_max == \"female\" : n+=1\n",
    "\n",
    "print(f\"Number of language that has more female than male recordings : {n}\")"
   ]
  },
  {
   "cell_type": "code",
   "execution_count": 18,
   "metadata": {},
   "outputs": [
    {
     "name": "stdout",
     "output_type": "stream",
     "text": [
      "Language with the most unbalanced distribution : en\n"
     ]
    }
   ],
   "source": [
    "#Question 8\n",
    "gender_diff = [(lang, df['gender'].value_counts().get('male', 0) - df['gender'].value_counts().get('female', 0)) for lang, df in lang_data.items()]\n",
    "lang = max(gender_diff, key=lambda x: x[1])[0]\n",
    "print(f\"Language with the most unbalanced distribution : {lang}\")\n"
   ]
  },
  {
   "cell_type": "code",
   "execution_count": 19,
   "metadata": {},
   "outputs": [
    {
     "data": {
      "image/png": "[encoded data removed]",
      "text/plain": [
       "<Figure size 1200x600 with 1 Axes>"
      ]
     },
     "metadata": {},
     "output_type": "display_data"
    },
    {
     "name": "stdout",
     "output_type": "stream",
     "text": [
      "Language with the most unbalanced distribution : en\n"
     ]
    }
   ],
   "source": [
    "#Question 8\n",
    "\n",
    "languages = []\n",
    "male_counts = []\n",
    "female_counts = []\n",
    "other_counts = []\n",
    "\n",
    "for lang, df in lang_data.items():\n",
    "    languages.append(lang)\n",
    "    gender_counts = df['gender'].value_counts()\n",
    "    male_counts.append(gender_counts.get('male', 0))\n",
    "    female_counts.append(gender_counts.get('female', 0))\n",
    "    other_counts.append(gender_counts.get('other', 0))\n",
    "\n",
    "# Create a bar chart\n",
    "plt.figure(figsize=(12, 6))\n",
    "plt.bar(languages, male_counts, label='Male')\n",
    "plt.bar(languages, female_counts, bottom=male_counts, label='Female')\n",
    "plt.bar(languages, other_counts, bottom=[sum(x) for x in zip(male_counts, female_counts)], label='Other')\n",
    "\n",
    "# Add labels and legend\n",
    "plt.xlabel('Languages')\n",
    "plt.ylabel('Count')\n",
    "plt.title('Gender Counts by Language')\n",
    "plt.legend()\n",
    "\n",
    "# Show the plot\n",
    "plt.show()\n",
    "\n",
    "gender_diff = [male - female for male, female in zip(male_counts, female_counts)]\n",
    "ind = gender_diff.index(max(gender_diff))\n",
    "print(f\"Language with the most unbalanced distribution : {languages[ind]}\")"
   ]
  },
  {
   "cell_type": "code",
   "execution_count": 20,
   "metadata": {},
   "outputs": [
    {
     "name": "stderr",
     "output_type": "stream",
     "text": [
      "C:\\Users\\anais\\AppData\\Local\\Temp\\ipykernel_2376\\3355634270.py:4: UserWarning: Boolean Series key will be reindexed to match DataFrame index.\n",
      "  df_f = df[concatenated_df['gender'] == 'female'].copy()\n",
      "C:\\Users\\anais\\AppData\\Local\\Temp\\ipykernel_2376\\3355634270.py:5: UserWarning: Boolean Series key will be reindexed to match DataFrame index.\n",
      "  df_m = df[concatenated_df['gender'] == 'male'].copy()\n",
      "C:\\Users\\anais\\AppData\\Local\\Temp\\ipykernel_2376\\3355634270.py:4: UserWarning: Boolean Series key will be reindexed to match DataFrame index.\n",
      "  df_f = df[concatenated_df['gender'] == 'female'].copy()\n",
      "C:\\Users\\anais\\AppData\\Local\\Temp\\ipykernel_2376\\3355634270.py:5: UserWarning: Boolean Series key will be reindexed to match DataFrame index.\n",
      "  df_m = df[concatenated_df['gender'] == 'male'].copy()\n",
      "C:\\Users\\anais\\AppData\\Local\\Temp\\ipykernel_2376\\3355634270.py:4: UserWarning: Boolean Series key will be reindexed to match DataFrame index.\n",
      "  df_f = df[concatenated_df['gender'] == 'female'].copy()\n",
      "C:\\Users\\anais\\AppData\\Local\\Temp\\ipykernel_2376\\3355634270.py:5: UserWarning: Boolean Series key will be reindexed to match DataFrame index.\n",
      "  df_m = df[concatenated_df['gender'] == 'male'].copy()\n",
      "C:\\Users\\anais\\AppData\\Local\\Temp\\ipykernel_2376\\3355634270.py:4: UserWarning: Boolean Series key will be reindexed to match DataFrame index.\n",
      "  df_f = df[concatenated_df['gender'] == 'female'].copy()\n",
      "C:\\Users\\anais\\AppData\\Local\\Temp\\ipykernel_2376\\3355634270.py:5: UserWarning: Boolean Series key will be reindexed to match DataFrame index.\n",
      "  df_m = df[concatenated_df['gender'] == 'male'].copy()\n",
      "C:\\Users\\anais\\AppData\\Local\\Temp\\ipykernel_2376\\3355634270.py:4: UserWarning: Boolean Series key will be reindexed to match DataFrame index.\n",
      "  df_f = df[concatenated_df['gender'] == 'female'].copy()\n",
      "C:\\Users\\anais\\AppData\\Local\\Temp\\ipykernel_2376\\3355634270.py:5: UserWarning: Boolean Series key will be reindexed to match DataFrame index.\n",
      "  df_m = df[concatenated_df['gender'] == 'male'].copy()\n",
      "C:\\Users\\anais\\AppData\\Local\\Temp\\ipykernel_2376\\3355634270.py:4: UserWarning: Boolean Series key will be reindexed to match DataFrame index.\n",
      "  df_f = df[concatenated_df['gender'] == 'female'].copy()\n",
      "C:\\Users\\anais\\AppData\\Local\\Temp\\ipykernel_2376\\3355634270.py:5: UserWarning: Boolean Series key will be reindexed to match DataFrame index.\n",
      "  df_m = df[concatenated_df['gender'] == 'male'].copy()\n",
      "C:\\Users\\anais\\AppData\\Local\\Temp\\ipykernel_2376\\3355634270.py:4: UserWarning: Boolean Series key will be reindexed to match DataFrame index.\n",
      "  df_f = df[concatenated_df['gender'] == 'female'].copy()\n",
      "C:\\Users\\anais\\AppData\\Local\\Temp\\ipykernel_2376\\3355634270.py:5: UserWarning: Boolean Series key will be reindexed to match DataFrame index.\n",
      "  df_m = df[concatenated_df['gender'] == 'male'].copy()\n",
      "C:\\Users\\anais\\AppData\\Local\\Temp\\ipykernel_2376\\3355634270.py:4: UserWarning: Boolean Series key will be reindexed to match DataFrame index.\n",
      "  df_f = df[concatenated_df['gender'] == 'female'].copy()\n",
      "C:\\Users\\anais\\AppData\\Local\\Temp\\ipykernel_2376\\3355634270.py:5: UserWarning: Boolean Series key will be reindexed to match DataFrame index.\n",
      "  df_m = df[concatenated_df['gender'] == 'male'].copy()\n",
      "C:\\Users\\anais\\AppData\\Local\\Temp\\ipykernel_2376\\3355634270.py:4: UserWarning: Boolean Series key will be reindexed to match DataFrame index.\n",
      "  df_f = df[concatenated_df['gender'] == 'female'].copy()\n",
      "C:\\Users\\anais\\AppData\\Local\\Temp\\ipykernel_2376\\3355634270.py:5: UserWarning: Boolean Series key will be reindexed to match DataFrame index.\n",
      "  df_m = df[concatenated_df['gender'] == 'male'].copy()\n",
      "C:\\Users\\anais\\AppData\\Local\\Temp\\ipykernel_2376\\3355634270.py:4: UserWarning: Boolean Series key will be reindexed to match DataFrame index.\n",
      "  df_f = df[concatenated_df['gender'] == 'female'].copy()\n",
      "C:\\Users\\anais\\AppData\\Local\\Temp\\ipykernel_2376\\3355634270.py:5: UserWarning: Boolean Series key will be reindexed to match DataFrame index.\n",
      "  df_m = df[concatenated_df['gender'] == 'male'].copy()\n",
      "C:\\Users\\anais\\AppData\\Local\\Temp\\ipykernel_2376\\3355634270.py:4: UserWarning: Boolean Series key will be reindexed to match DataFrame index.\n",
      "  df_f = df[concatenated_df['gender'] == 'female'].copy()\n",
      "C:\\Users\\anais\\AppData\\Local\\Temp\\ipykernel_2376\\3355634270.py:5: UserWarning: Boolean Series key will be reindexed to match DataFrame index.\n",
      "  df_m = df[concatenated_df['gender'] == 'male'].copy()\n",
      "C:\\Users\\anais\\AppData\\Local\\Temp\\ipykernel_2376\\3355634270.py:4: UserWarning: Boolean Series key will be reindexed to match DataFrame index.\n",
      "  df_f = df[concatenated_df['gender'] == 'female'].copy()\n",
      "C:\\Users\\anais\\AppData\\Local\\Temp\\ipykernel_2376\\3355634270.py:5: UserWarning: Boolean Series key will be reindexed to match DataFrame index.\n",
      "  df_m = df[concatenated_df['gender'] == 'male'].copy()\n",
      "C:\\Users\\anais\\AppData\\Local\\Temp\\ipykernel_2376\\3355634270.py:4: UserWarning: Boolean Series key will be reindexed to match DataFrame index.\n",
      "  df_f = df[concatenated_df['gender'] == 'female'].copy()\n",
      "C:\\Users\\anais\\AppData\\Local\\Temp\\ipykernel_2376\\3355634270.py:5: UserWarning: Boolean Series key will be reindexed to match DataFrame index.\n",
      "  df_m = df[concatenated_df['gender'] == 'male'].copy()\n",
      "C:\\Users\\anais\\AppData\\Local\\Temp\\ipykernel_2376\\3355634270.py:4: UserWarning: Boolean Series key will be reindexed to match DataFrame index.\n",
      "  df_f = df[concatenated_df['gender'] == 'female'].copy()\n",
      "C:\\Users\\anais\\AppData\\Local\\Temp\\ipykernel_2376\\3355634270.py:5: UserWarning: Boolean Series key will be reindexed to match DataFrame index.\n",
      "  df_m = df[concatenated_df['gender'] == 'male'].copy()\n"
     ]
    },
    {
     "data": {
      "text/plain": [
       "767         2160\n",
       "768         3996\n",
       "769         5724\n",
       "770         7704\n",
       "771         9432\n",
       "          ...   \n",
       "39731    3503400\n",
       "39781    3512400\n",
       "40018    3514200\n",
       "40019    3515748\n",
       "40020    3525648\n",
       "Name: duration[ms], Length: 662, dtype: int64"
      ]
     },
     "execution_count": 20,
     "metadata": {},
     "output_type": "execute_result"
    }
   ],
   "source": [
    "#Question 9\n",
    "for lang,df in lang_data.items():\n",
    "\n",
    "    df_f = df[concatenated_df['gender'] == 'female'].copy()\n",
    "    df_m = df[concatenated_df['gender'] == 'male'].copy()\n",
    "\n",
    "    cumulative_duration_f = df_f.groupby(by=\"client_id\")['duration[ms]'].sum().sort_values().cumsum()\n",
    "    cumulative_duration_m = df_m.groupby(by=\"client_id\")['duration[ms]'].sum().sort_values().cumsum()\n",
    "\n",
    "    test_threshold = 60000 / 2\n",
    "    train_threshold = 3.6e+6 / 2\n",
    "\n",
    "    result_test = pd.concat([\n",
    "        df_f[df_f[\"client_id\"].isin(cumulative_duration_f[cumulative_duration_f <= test_threshold].index)],\n",
    "        df_m[df_m[\"client_id\"].isin(cumulative_duration_m[cumulative_duration_m <= test_threshold].index)]\n",
    "    ])\n",
    "\n",
    "    result_train = pd.concat([\n",
    "        df_f[df_f[\"client_id\"].isin(cumulative_duration_f[\n",
    "            (cumulative_duration_f > test_threshold) & (cumulative_duration_f <= train_threshold)\n",
    "        ].index)],\n",
    "        df_m[df_m[\"client_id\"].isin(cumulative_duration_m[\n",
    "            (cumulative_duration_m > test_threshold) & (cumulative_duration_m <= train_threshold)\n",
    "        ].index)]\n",
    "    ])\n",
    "\n",
    "result_train[\"duration[ms]\"].cumsum()\n"
   ]
  },
  {
   "cell_type": "code",
   "execution_count": 21,
   "metadata": {},
   "outputs": [],
   "source": [
    "concatenated_df.to_csv(\"concatenated_df.csv\")"
   ]
  },
  {
   "cell_type": "code",
   "execution_count": 35,
   "metadata": {},
   "outputs": [
    {
     "data": {
      "image/png": "[encoded data removed]",
      "text/plain": [
       "<Figure size 1200x600 with 1 Axes>"
      ]
     },
     "metadata": {},
     "output_type": "display_data"
    }
   ],
   "source": [
    "#Question 10\n",
    "tokenizer = MosesTokenizer()\n",
    "concatenated_df['sentence_word_count'] = concatenated_df['sentence'].apply(lambda x : len(tokenizer.tokenize(x, return_str=True).split()))\n",
    "\n",
    "\n",
    "plt.figure(figsize=(12, 6))\n",
    "ax = sns.boxplot(x='Language', y='sentence_word_count', data=concatenated_df)\n",
    "plt.xticks(rotation=45)\n",
    "plt.title('Distribution of Words per Sentence by Language')\n",
    "plt.xlabel('Language')\n",
    "plt.ylabel('Number of Words per Sentence')\n",
    "ax.set(ylim=(0, 40))  \n",
    "\n",
    "plt.show()\n"
   ]
  },
  {
   "cell_type": "code",
   "execution_count": 51,
   "metadata": {},
   "outputs": [
    {
     "data": {
      "text/plain": [
       "623040    10\n",
       "623041    15\n",
       "623042    13\n",
       "623043     9\n",
       "623044     9\n",
       "Name: sentence_word_count, dtype: int64"
      ]
     },
     "execution_count": 51,
     "metadata": {},
     "output_type": "execute_result"
    }
   ],
   "source": [
    "concatenated_df[concatenated_df['Language'] == 'en']['sentence_word_count'].head()"
   ]
  },
  {
   "cell_type": "code",
   "execution_count": 56,
   "metadata": {},
   "outputs": [
    {
     "name": "stderr",
     "output_type": "stream",
     "text": [
      "[nltk_data] Downloading package stopwords to\n",
      "[nltk_data]     C:\\Users\\anais\\AppData\\Roaming\\nltk_data...\n",
      "[nltk_data]   Package stopwords is already up-to-date!\n"
     ]
    },
    {
     "data": {
      "text/plain": [
       "['street', 'square', 'named', '.']"
      ]
     },
     "execution_count": 56,
     "metadata": {},
     "output_type": "execute_result"
    }
   ],
   "source": [
    "nltk.download('stopwords')\n",
    "stop_words = set(stopwords.words('english'))\n",
    "tokens = tokenizer.tokenize(\"A street and a square are named after him.\")\n"
   ]
  },
  {
   "cell_type": "code",
   "execution_count": 63,
   "metadata": {},
   "outputs": [
    {
     "ename": "TypeError",
     "evalue": "count_no_stop() missing 1 required positional argument: 'stop_words'",
     "output_type": "error",
     "traceback": [
      "\u001b[1;31m---------------------------------------------------------------------------\u001b[0m",
      "\u001b[1;31mTypeError\u001b[0m                                 Traceback (most recent call last)",
      "\u001b[1;32mc:\\Users\\anais\\Desktop\\Cours\\M2\\data_analysis_for_nlp\\final_project\\data_analysis_project\\BEKOLO_data_analysis_final_project.ipynb Cellule 26\u001b[0m line \u001b[0;36m8\n\u001b[0;32m      <a href='vscode-notebook-cell:/c%3A/Users/anais/Desktop/Cours/M2/data_analysis_for_nlp/final_project/data_analysis_project/BEKOLO_data_analysis_final_project.ipynb#X34sZmlsZQ%3D%3D?line=3'>4</a>\u001b[0m     \u001b[39mreturn\u001b[39;00m Counter([word\u001b[39m.\u001b[39mlower() \u001b[39mfor\u001b[39;00m word \u001b[39min\u001b[39;00m tokens \u001b[39mif\u001b[39;00m word\u001b[39m.\u001b[39mlower() \u001b[39mnot\u001b[39;00m \u001b[39min\u001b[39;00m stop_words])\n\u001b[0;32m      <a href='vscode-notebook-cell:/c%3A/Users/anais/Desktop/Cours/M2/data_analysis_for_nlp/final_project/data_analysis_project/BEKOLO_data_analysis_final_project.ipynb#X34sZmlsZQ%3D%3D?line=6'>7</a>\u001b[0m \u001b[39m# Apply tokenization and stop word removal to the \"sentence\" column\u001b[39;00m\n\u001b[1;32m----> <a href='vscode-notebook-cell:/c%3A/Users/anais/Desktop/Cours/M2/data_analysis_for_nlp/final_project/data_analysis_project/BEKOLO_data_analysis_final_project.ipynb#X34sZmlsZQ%3D%3D?line=7'>8</a>\u001b[0m concatenated_df[\u001b[39m'\u001b[39m\u001b[39mcount_tokens_no_stop\u001b[39m\u001b[39m'\u001b[39m] \u001b[39m=\u001b[39m concatenated_df[\u001b[39m'\u001b[39;49m\u001b[39msentence\u001b[39;49m\u001b[39m'\u001b[39;49m]\u001b[39m.\u001b[39;49mapply(count_no_stop)\n\u001b[0;32m     <a href='vscode-notebook-cell:/c%3A/Users/anais/Desktop/Cours/M2/data_analysis_for_nlp/final_project/data_analysis_project/BEKOLO_data_analysis_final_project.ipynb#X34sZmlsZQ%3D%3D?line=9'>10</a>\u001b[0m concatenated_df[\u001b[39m'\u001b[39m\u001b[39mcount_tokens_no_stop\u001b[39m\u001b[39m'\u001b[39m]\u001b[39m.\u001b[39mhead()\n",
      "File \u001b[1;32mc:\\Users\\anais\\AppData\\Local\\Programs\\Python\\Python39\\lib\\site-packages\\pandas\\core\\series.py:4433\u001b[0m, in \u001b[0;36mSeries.apply\u001b[1;34m(self, func, convert_dtype, args, **kwargs)\u001b[0m\n\u001b[0;32m   4323\u001b[0m \u001b[39mdef\u001b[39;00m \u001b[39mapply\u001b[39m(\n\u001b[0;32m   4324\u001b[0m     \u001b[39mself\u001b[39m,\n\u001b[0;32m   4325\u001b[0m     func: AggFuncType,\n\u001b[1;32m   (...)\u001b[0m\n\u001b[0;32m   4328\u001b[0m     \u001b[39m*\u001b[39m\u001b[39m*\u001b[39mkwargs,\n\u001b[0;32m   4329\u001b[0m ) \u001b[39m-\u001b[39m\u001b[39m>\u001b[39m DataFrame \u001b[39m|\u001b[39m Series:\n\u001b[0;32m   4330\u001b[0m \u001b[39m    \u001b[39m\u001b[39m\"\"\"\u001b[39;00m\n\u001b[0;32m   4331\u001b[0m \u001b[39m    Invoke function on values of Series.\u001b[39;00m\n\u001b[0;32m   4332\u001b[0m \n\u001b[1;32m   (...)\u001b[0m\n\u001b[0;32m   4431\u001b[0m \u001b[39m    dtype: float64\u001b[39;00m\n\u001b[0;32m   4432\u001b[0m \u001b[39m    \"\"\"\u001b[39;00m\n\u001b[1;32m-> 4433\u001b[0m     \u001b[39mreturn\u001b[39;00m SeriesApply(\u001b[39mself\u001b[39;49m, func, convert_dtype, args, kwargs)\u001b[39m.\u001b[39;49mapply()\n",
      "File \u001b[1;32mc:\\Users\\anais\\AppData\\Local\\Programs\\Python\\Python39\\lib\\site-packages\\pandas\\core\\apply.py:1082\u001b[0m, in \u001b[0;36mSeriesApply.apply\u001b[1;34m(self)\u001b[0m\n\u001b[0;32m   1078\u001b[0m \u001b[39mif\u001b[39;00m \u001b[39misinstance\u001b[39m(\u001b[39mself\u001b[39m\u001b[39m.\u001b[39mf, \u001b[39mstr\u001b[39m):\n\u001b[0;32m   1079\u001b[0m     \u001b[39m# if we are a string, try to dispatch\u001b[39;00m\n\u001b[0;32m   1080\u001b[0m     \u001b[39mreturn\u001b[39;00m \u001b[39mself\u001b[39m\u001b[39m.\u001b[39mapply_str()\n\u001b[1;32m-> 1082\u001b[0m \u001b[39mreturn\u001b[39;00m \u001b[39mself\u001b[39;49m\u001b[39m.\u001b[39;49mapply_standard()\n",
      "File \u001b[1;32mc:\\Users\\anais\\AppData\\Local\\Programs\\Python\\Python39\\lib\\site-packages\\pandas\\core\\apply.py:1137\u001b[0m, in \u001b[0;36mSeriesApply.apply_standard\u001b[1;34m(self)\u001b[0m\n\u001b[0;32m   1131\u001b[0m         values \u001b[39m=\u001b[39m obj\u001b[39m.\u001b[39mastype(\u001b[39mobject\u001b[39m)\u001b[39m.\u001b[39m_values\n\u001b[0;32m   1132\u001b[0m         \u001b[39m# error: Argument 2 to \"map_infer\" has incompatible type\u001b[39;00m\n\u001b[0;32m   1133\u001b[0m         \u001b[39m# \"Union[Callable[..., Any], str, List[Union[Callable[..., Any], str]],\u001b[39;00m\n\u001b[0;32m   1134\u001b[0m         \u001b[39m# Dict[Hashable, Union[Union[Callable[..., Any], str],\u001b[39;00m\n\u001b[0;32m   1135\u001b[0m         \u001b[39m# List[Union[Callable[..., Any], str]]]]]\"; expected\u001b[39;00m\n\u001b[0;32m   1136\u001b[0m         \u001b[39m# \"Callable[[Any], Any]\"\u001b[39;00m\n\u001b[1;32m-> 1137\u001b[0m         mapped \u001b[39m=\u001b[39m lib\u001b[39m.\u001b[39;49mmap_infer(\n\u001b[0;32m   1138\u001b[0m             values,\n\u001b[0;32m   1139\u001b[0m             f,  \u001b[39m# type: ignore[arg-type]\u001b[39;49;00m\n\u001b[0;32m   1140\u001b[0m             convert\u001b[39m=\u001b[39;49m\u001b[39mself\u001b[39;49m\u001b[39m.\u001b[39;49mconvert_dtype,\n\u001b[0;32m   1141\u001b[0m         )\n\u001b[0;32m   1143\u001b[0m \u001b[39mif\u001b[39;00m \u001b[39mlen\u001b[39m(mapped) \u001b[39mand\u001b[39;00m \u001b[39misinstance\u001b[39m(mapped[\u001b[39m0\u001b[39m], ABCSeries):\n\u001b[0;32m   1144\u001b[0m     \u001b[39m# GH#43986 Need to do list(mapped) in order to get treated as nested\u001b[39;00m\n\u001b[0;32m   1145\u001b[0m     \u001b[39m#  See also GH#25959 regarding EA support\u001b[39;00m\n\u001b[0;32m   1146\u001b[0m     \u001b[39mreturn\u001b[39;00m obj\u001b[39m.\u001b[39m_constructor_expanddim(\u001b[39mlist\u001b[39m(mapped), index\u001b[39m=\u001b[39mobj\u001b[39m.\u001b[39mindex)\n",
      "File \u001b[1;32mc:\\Users\\anais\\AppData\\Local\\Programs\\Python\\Python39\\lib\\site-packages\\pandas\\_libs\\lib.pyx:2870\u001b[0m, in \u001b[0;36mpandas._libs.lib.map_infer\u001b[1;34m()\u001b[0m\n",
      "\u001b[1;31mTypeError\u001b[0m: count_no_stop() missing 1 required positional argument: 'stop_words'"
     ]
    }
   ],
   "source": [
    "# Remove stop words and count words\n",
    "def count_no_stop(sentence,stop_words):\n",
    "    tokens = tokenizer.tokenize(sentence,return_str=True),stop_words\n",
    "    return Counter([word.lower() for word in tokens if word.lower() not in stop_words])\n",
    "\n",
    "\n",
    "# Apply tokenization and stop word removal to the \"sentence\" column\n",
    "concatenated_df['count_tokens_no_stop'] = concatenated_df['sentence'].apply(count_no_stop)\n",
    "\n",
    "concatenated_df['count_tokens_no_stop'].head()"
   ]
  },
  {
   "cell_type": "code",
   "execution_count": 62,
   "metadata": {},
   "outputs": [
    {
     "data": {
      "text/plain": [
       "Counter({'street': 1, 'square': 1, 'named': 1, '.': 1})"
      ]
     },
     "execution_count": 62,
     "metadata": {},
     "output_type": "execute_result"
    }
   ],
   "source": [
    "count_no_stop(tokens,stop_words)"
   ]
  },
  {
   "cell_type": "code",
   "execution_count": 61,
   "metadata": {},
   "outputs": [
    {
     "data": {
      "text/plain": [
       "623040    {' ': 9, 'r': 4, 'e': 6, 'n': 2, 'q': 1, 'u': ...\n",
       "623041    {'h': 4, 'w': 2, 'e': 13, 'v': 1, 'r': 7, ' ':...\n",
       "623042    {'n': 9, 'e': 8, 'g': 3, 'h': 1, 'b': 3, 'u': ...\n",
       "623043    {'k': 1, 'r': 4, 'n': 3, ' ': 8, 'b': 2, 'u': ...\n",
       "623044    {' ': 8, 'r': 3, 'e': 4, 'u': 1, 'l': 3, ',': ...\n",
       "Name: word_counts_no_stop, dtype: object"
      ]
     },
     "execution_count": 61,
     "metadata": {},
     "output_type": "execute_result"
    }
   ],
   "source": [
    "concatenated_df[concatenated_df['Language'] == 'en']['word_counts_no_stop'].head()\n"
   ]
  },
  {
   "cell_type": "code",
   "execution_count": 43,
   "metadata": {},
   "outputs": [
    {
     "name": "stdout",
     "output_type": "stream",
     "text": [
      "Language: ar\n"
     ]
    },
    {
     "ename": "ValueError",
     "evalue": "not enough values to unpack (expected 2, got 1)",
     "output_type": "error",
     "traceback": [
      "\u001b[1;31m---------------------------------------------------------------------------\u001b[0m",
      "\u001b[1;31mValueError\u001b[0m                                Traceback (most recent call last)",
      "\u001b[1;32mc:\\Users\\anais\\Desktop\\Cours\\M2\\data_analysis_for_nlp\\final_project\\data_analysis_project\\BEKOLO_data_analysis_final_project.ipynb Cellule 25\u001b[0m line \u001b[0;36m1\n\u001b[0;32m     <a href='vscode-notebook-cell:/c%3A/Users/anais/Desktop/Cours/M2/data_analysis_for_nlp/final_project/data_analysis_project/BEKOLO_data_analysis_final_project.ipynb#X36sZmlsZQ%3D%3D?line=11'>12</a>\u001b[0m \u001b[39mfor\u001b[39;00m lang, word_counts \u001b[39min\u001b[39;00m language_most_frequent_words\u001b[39m.\u001b[39mitems():\n\u001b[0;32m     <a href='vscode-notebook-cell:/c%3A/Users/anais/Desktop/Cours/M2/data_analysis_for_nlp/final_project/data_analysis_project/BEKOLO_data_analysis_final_project.ipynb#X36sZmlsZQ%3D%3D?line=12'>13</a>\u001b[0m     \u001b[39mprint\u001b[39m(\u001b[39mf\u001b[39m\u001b[39m\"\u001b[39m\u001b[39mLanguage: \u001b[39m\u001b[39m{\u001b[39;00mlang\u001b[39m}\u001b[39;00m\u001b[39m\"\u001b[39m)\n\u001b[1;32m---> <a href='vscode-notebook-cell:/c%3A/Users/anais/Desktop/Cours/M2/data_analysis_for_nlp/final_project/data_analysis_project/BEKOLO_data_analysis_final_project.ipynb#X36sZmlsZQ%3D%3D?line=13'>14</a>\u001b[0m     \u001b[39mfor\u001b[39;00m word, count \u001b[39min\u001b[39;00m word_counts:\n\u001b[0;32m     <a href='vscode-notebook-cell:/c%3A/Users/anais/Desktop/Cours/M2/data_analysis_for_nlp/final_project/data_analysis_project/BEKOLO_data_analysis_final_project.ipynb#X36sZmlsZQ%3D%3D?line=14'>15</a>\u001b[0m         \u001b[39mprint\u001b[39m(\u001b[39mf\u001b[39m\u001b[39m\"\u001b[39m\u001b[39m{\u001b[39;00mword\u001b[39m}\u001b[39;00m\u001b[39m: \u001b[39m\u001b[39m{\u001b[39;00mcount\u001b[39m}\u001b[39;00m\u001b[39m\"\u001b[39m)\n\u001b[0;32m     <a href='vscode-notebook-cell:/c%3A/Users/anais/Desktop/Cours/M2/data_analysis_for_nlp/final_project/data_analysis_project/BEKOLO_data_analysis_final_project.ipynb#X36sZmlsZQ%3D%3D?line=15'>16</a>\u001b[0m     \u001b[39mprint\u001b[39m(\u001b[39m\"\u001b[39m\u001b[39m\\n\u001b[39;00m\u001b[39m\"\u001b[39m)\n",
      "\u001b[1;31mValueError\u001b[0m: not enough values to unpack (expected 2, got 1)"
     ]
    }
   ],
   "source": [
    "# Define a function to get the top n words from a Counter\n",
    "def get_top_n_words(counter, n=17):\n",
    "    combined_counter = Counter()\n",
    "    for c in counter:\n",
    "        combined_counter.update(c)\n",
    "    sorted_words = sorted(combined_counter.items(), key=lambda x: x[1], reverse=True)\n",
    "    return [word for word, count in sorted_words[:n]]\n",
    "\n",
    "\n",
    "language_most_frequent_words = language_most_frequent_words.apply(lambda x: get_top_n_words(x))\n",
    "for lang, word_counts in language_most_frequent_words.items():\n",
    "    print(f\"Language: {lang}\")\n",
    "    for word, count in word_counts:\n",
    "        print(f\"{word}: {count}\")\n",
    "    print(\"\\n\")"
   ]
  },
  {
   "cell_type": "code",
   "execution_count": 34,
   "metadata": {},
   "outputs": [
    {
     "name": "stdout",
     "output_type": "stream",
     "text": [
      "total number of words for each language\n"
     ]
    },
    {
     "data": {
      "text/plain": [
       "Language\n",
       "ar         237832\n",
       "de        6359896\n",
       "en       12803621\n",
       "es        3739451\n",
       "fr        6523544\n",
       "id          78576\n",
       "it        2093518\n",
       "ja         158177\n",
       "lg         865161\n",
       "ru         372543\n",
       "sw         514743\n",
       "ta         531237\n",
       "tr         242705\n",
       "zh-CN      673510\n",
       "Name: sentence_word_count, dtype: int64"
      ]
     },
     "execution_count": 34,
     "metadata": {},
     "output_type": "execute_result"
    }
   ],
   "source": [
    "#Question 12\n",
    "#Print the total number of words for each language\n",
    "print(\"total number of words for each language\")\n",
    "concatenated_df.groupby('Language')['sentence_word_count'].sum()"
   ]
  },
  {
   "cell_type": "code",
   "execution_count": null,
   "metadata": {},
   "outputs": [],
   "source": [
    "#Question 2.1\n",
    "\n",
    "vectorizer = TfidfVectorizer()\n",
    "\n",
    "\n",
    "path = \"../US_Inaugural_Addresses/\"\n",
    "for file_path in os.listdir(path):\n",
    "    with open(file_path, 'r', encoding='utf-8') as file:\n",
    "        lines = file.readlines()\n",
    "        president = lines[0].strip()\n",
    "        year = lines[1].strip()\n",
    "        discourse = lines[2].strip()\n",
    "        data.append({\"name\": president, \"year\": year, \"discourse\": discourse})\n",
    "\n",
    "df = pd.DataFrame(data)\n",
    "tfidf_matrix = vectorizer.fit_transform(df['discourse'])\n",
    "df['tf_idf'] = list(tfidf_matrix.toarray())\n",
    "\n",
    "df\n"
   ]
  },
  {
   "cell_type": "code",
   "execution_count": null,
   "metadata": {},
   "outputs": [],
   "source": [
    "# Step 2: Calculate cosine similarity between all pairs of speeches\n",
    "similarity_matrix = cosine_similarity(tfidf_matrix)\n",
    "\n",
    "# Step 3: Store the similarity scores in a square matrix\n",
    "similarity_df = pd.DataFrame(similarity_matrix, columns=df['column_speeches'], index=df['row_speeches'])\n",
    "\n",
    "# You now have a similarity matrix where rows and columns represent speeches,\n",
    "# and the cell values represent cosine similarity scores.\n",
    "\n",
    "# Add the similarity matrix to the original DataFrame\n",
    "df = pd.concat([df, similarity_df], axis=1)\n",
    "\n",
    "# Display the updated DataFrame\n",
    "print(df)\n"
   ]
  }
 ],
 "metadata": {
  "kernelspec": {
   "display_name": "Python 3",
   "language": "python",
   "name": "python3"
  },
  "language_info": {
   "codemirror_mode": {
    "name": "ipython",
    "version": 3
   },
   "file_extension": ".py",
   "mimetype": "text/x-python",
   "name": "python",
   "nbconvert_exporter": "python",
   "pygments_lexer": "ipython3",
   "version": "3.9.7"
  }
 },
 "nbformat": 4,
 "nbformat_minor": 2
}
