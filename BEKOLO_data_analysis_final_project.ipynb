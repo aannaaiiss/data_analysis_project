{
 "cells": [
  {
   "cell_type": "code",
   "execution_count": 20,
   "metadata": {},
   "outputs": [],
   "source": [
    "import os\n",
    "from pathlib import Path\n",
    "import pandas as pd\n",
    "import numpy as np"
   ]
  },
  {
   "cell_type": "code",
   "execution_count": 21,
   "metadata": {},
   "outputs": [],
   "source": [
    "metadata_path = \"../metadata\""
   ]
  },
  {
   "cell_type": "code",
   "execution_count": 22,
   "metadata": {},
   "outputs": [
    {
     "name": "stderr",
     "output_type": "stream",
     "text": [
      "C:\\Users\\anais\\AppData\\Local\\Temp\\ipykernel_1340\\2116275207.py:4: DtypeWarning: Columns (5) have mixed types. Specify dtype option on import or set low_memory=False.\n",
      "  [pd.read_csv(f'{metadata_path}/{lang_dir}/cv-corpus-15.0-2023-09-08/{lang_dir}/{set_name}.tsv', delimiter=\"\\t\")\n"
     ]
    }
   ],
   "source": [
    "# Create a dictionary of DataFrames, one for each language, with all the data provided\n",
    "lang_data = {\n",
    "    lang_dir: pd.concat(\n",
    "        [pd.read_csv(f'{metadata_path}/{lang_dir}/cv-corpus-15.0-2023-09-08/{lang_dir}/{set_name}.tsv', delimiter=\"\\t\")\n",
    "         for set_name in [\"train\", \"test\"]],\n",
    "    )\n",
    "    for lang_dir in os.listdir(metadata_path)\n",
    "}"
   ]
  },
  {
   "cell_type": "code",
   "execution_count": 23,
   "metadata": {},
   "outputs": [],
   "source": [
    "# Modify the dictionary of DataFrames to have also the duration\n",
    "for lang in lang_data: \n",
    "    lang_data[lang] = pd.merge(\n",
    "        lang_data[lang].rename(columns={'path': 'clip'}),\n",
    "        pd.read_csv(f'{metadata_path}/{lang}/cv-corpus-15.0-2023-09-08/{lang}/clip_durations.tsv', delimiter=\"\\t\"),\n",
    "    )"
   ]
  },
  {
   "cell_type": "code",
   "execution_count": 24,
   "metadata": {},
   "outputs": [
    {
     "name": "stdout",
     "output_type": "stream",
     "text": [
      "number of speakers for each language\n",
      "ar 982\n",
      "de 12277\n",
      "en 47861\n",
      "es 10990\n",
      "fr 12153\n",
      "id 332\n",
      "it 5098\n",
      "ja 1073\n",
      "lg 514\n",
      "ru 2144\n",
      "sw 956\n",
      "ta 471\n",
      "tr 1268\n",
      "zh-CN 3454\n"
     ]
    }
   ],
   "source": [
    "#Print the number of speakers for each language\n",
    "print(\"number of speakers for each language\")\n",
    "for lang,df in lang_data.items():\n",
    "    print(lang, df[\"client_id\"].nunique())"
   ]
  },
  {
   "cell_type": "code",
   "execution_count": 25,
   "metadata": {},
   "outputs": [
    {
     "name": "stdout",
     "output_type": "stream",
     "text": [
      "total duration for each language\n",
      "ar 162160035\n",
      "de 3341755685\n",
      "en 6174878911\n",
      "es 1720018728\n",
      "fr 2820768179\n",
      "id 42566295\n",
      "it 975913433\n",
      "ja 57698436\n",
      "lg 466082146\n",
      "ru 192763014\n",
      "sw 305649144\n",
      "ta 329813232\n",
      "tr 149813327\n",
      "zh-CN 215156913\n"
     ]
    }
   ],
   "source": [
    "#Print the total duration for each language\n",
    "print(\"total duration for each language\")\n",
    "for lang,df in lang_data.items():\n",
    "    print(lang, df[\"duration[ms]\"].sum())"
   ]
  },
  {
   "cell_type": "code",
   "execution_count": 26,
   "metadata": {},
   "outputs": [],
   "source": [
    "#Create several DataFrames\n",
    "genders = [\"female\", \"male\", None]\n",
    "languages = list(lang_data.keys())\n",
    "\n",
    "data = []\n",
    "\n",
    "for gender in genders:\n",
    "    for lang in languages:\n",
    "        df = lang_data[lang]\n",
    "        total_duration = df[df[\"gender\"] == gender][\"duration[ms]\"].sum()\n",
    "        num_speakers = df[\"client_id\"].nunique()\n",
    "        data.append([gender, lang, total_duration, num_speakers])\n",
    "        \n",
    "        #For each language and each gender : average, max, median, min number of recordings per speaker\n",
    "        #One DataFrame for each language and each gender\n",
    "        new_df = df.groupby(by=\"client_id\")[\"duration[ms]\"].agg(['max', 'min', 'mean', 'median'])\n",
    "        #new_df.to_csv(f\"{lang}_{gender}.csv\")\n",
    "\n",
    "# For each language and each genre : total duration of recordings, the number of different speakers\n",
    "result_df = pd.DataFrame(data, columns=[\"Gender\", \"Language\", \"Total Duration\", \"Number of Speakers\"])\n",
    "\n"
   ]
  },
  {
   "cell_type": "code",
   "execution_count": 33,
   "metadata": {},
   "outputs": [
    {
     "data": {
      "text/plain": [
       "array(['twenties', 'thirties', 'teens', 'fourties', 'sixties', 'fifties',\n",
       "       'nineties'], dtype=object)"
      ]
     },
     "execution_count": 33,
     "metadata": {},
     "output_type": "execute_result"
    }
   ],
   "source": [
    "lang_data[\"ar\"][lang_data[\"ar\"][\"age\"].notna()][\"age\"].unique()"
   ]
  },
  {
   "cell_type": "code",
   "execution_count": null,
   "metadata": {},
   "outputs": [],
   "source": []
  }
 ],
 "metadata": {
  "kernelspec": {
   "display_name": "Python 3",
   "language": "python",
   "name": "python3"
  },
  "language_info": {
   "codemirror_mode": {
    "name": "ipython",
    "version": 3
   },
   "file_extension": ".py",
   "mimetype": "text/x-python",
   "name": "python",
   "nbconvert_exporter": "python",
   "pygments_lexer": "ipython3",
   "version": "3.9.7"
  }
 },
 "nbformat": 4,
 "nbformat_minor": 2
}
